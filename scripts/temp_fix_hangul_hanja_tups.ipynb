{
 "cells": [
  {
   "cell_type": "code",
   "execution_count": 54,
   "metadata": {
    "collapsed": true,
    "pycharm": {
     "name": "#%%\n"
    }
   },
   "outputs": [],
   "source": [
    "# TEMP CODE TO ADDRESS A MOMENTARY ISSUE\n",
    "\n",
    "import pandas as pd\n",
    "\n",
    "# refined list, but contains repeat hanja\n",
    "refined_with_repeat_hanja = pd.read_csv('../input_edited_files/english_hangul_hanja_tuples_refined_but_repeats.csv')\n",
    "\n",
    "# unrefined, but the repeat hanja is not there\n",
    "df_no_repeat_hanja = pd.read_csv('../input_edited_files/english_hangul_hanja_tuples__no_repeat_hangul_hanja.csv')\n",
    "\n",
    "\n",
    "def add_x_for_nan(x):\n",
    "    if 'nan' in str(x).lower():\n",
    "        return 'X'\n",
    "    else:\n",
    "        return x\n",
    "\n",
    "refined_with_repeat_hanja['hanja_word_with_x'] = refined_with_repeat_hanja['hanja_word'].apply(add_x_for_nan)\n",
    "df_no_repeat_hanja['hanja_word_with_x'] = df_no_repeat_hanja['hanja_word'].apply(add_x_for_nan)"
   ]
  },
  {
   "cell_type": "code",
   "execution_count": 55,
   "outputs": [],
   "source": [
    "INDEX_COLS = ['Korean', 'hanja_word_with_x']\n",
    "COLS_TO_KEEP = ['Korean', 'English', 'hanja_word_with_x']\n",
    "\n",
    "fixed_df = refined_with_repeat_hanja[COLS_TO_KEEP]\\\n",
    "    .set_index(INDEX_COLS).join(\n",
    "        df_no_repeat_hanja[COLS_TO_KEEP].set_index(INDEX_COLS), how='inner',\n",
    "        lsuffix='_1', rsuffix='_2'\n",
    "    )"
   ],
   "metadata": {
    "collapsed": false,
    "pycharm": {
     "name": "#%%\n"
    }
   }
  },
  {
   "cell_type": "code",
   "execution_count": 56,
   "outputs": [],
   "source": [
    "#verify that no hangul was lost\n",
    "hangul_words_orig = set(refined_with_repeat_hanja['Korean'])\n",
    "hangul_words_fixed_df = set(fixed_df.reset_index()['Korean'])"
   ],
   "metadata": {
    "collapsed": false,
    "pycharm": {
     "name": "#%%\n"
    }
   }
  },
  {
   "cell_type": "code",
   "execution_count": 57,
   "outputs": [],
   "source": [
    "missing_hangul = hangul_words_orig.difference(hangul_words_fixed_df)"
   ],
   "metadata": {
    "collapsed": false,
    "pycharm": {
     "name": "#%%\n"
    }
   }
  },
  {
   "cell_type": "code",
   "execution_count": 58,
   "outputs": [
    {
     "name": "stdout",
     "output_type": "stream",
     "text": [
      "{'들', '일본', '인도'}\n"
     ]
    }
   ],
   "source": [
    "print(missing_hangul)"
   ],
   "metadata": {
    "collapsed": false,
    "pycharm": {
     "name": "#%%\n"
    }
   }
  },
  {
   "cell_type": "code",
   "execution_count": 59,
   "outputs": [],
   "source": [
    "fixed_df['differing_English'] = fixed_df.apply(lambda row: row['English_1'] != row['English_2'], axis=1)\n",
    "\n",
    "fixed_df = fixed_df.reset_index()\n",
    "fixed_df = fixed_df.sort_values(['differing_English', 'Korean', 'hanja_word_with_x'], ascending=False)"
   ],
   "metadata": {
    "collapsed": false,
    "pycharm": {
     "name": "#%%\n"
    }
   }
  },
  {
   "cell_type": "code",
   "execution_count": 60,
   "outputs": [],
   "source": [
    "fixed_df.to_csv('../output/TEMP_english_hangul_hanja_tups_fixed.csv', index=False)"
   ],
   "metadata": {
    "collapsed": false,
    "pycharm": {
     "name": "#%%\n"
    }
   }
  },
  {
   "cell_type": "code",
   "execution_count": null,
   "outputs": [],
   "source": [],
   "metadata": {
    "collapsed": false,
    "pycharm": {
     "name": "#%%\n"
    }
   }
  }
 ],
 "metadata": {
  "kernelspec": {
   "display_name": "Python 3",
   "language": "python",
   "name": "python3"
  },
  "language_info": {
   "codemirror_mode": {
    "name": "ipython",
    "version": 2
   },
   "file_extension": ".py",
   "mimetype": "text/x-python",
   "name": "python",
   "nbconvert_exporter": "python",
   "pygments_lexer": "ipython2",
   "version": "2.7.6"
  }
 },
 "nbformat": 4,
 "nbformat_minor": 0
}