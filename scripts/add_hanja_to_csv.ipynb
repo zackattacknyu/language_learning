{
 "cells": [
  {
   "cell_type": "code",
   "execution_count": 1,
   "metadata": {
    "collapsed": true
   },
   "outputs": [],
   "source": [
    "import pandas as pd"
   ]
  },
  {
   "cell_type": "code",
   "execution_count": 2,
   "outputs": [],
   "source": [
    "kor_eng_tuples = pd.read_csv('../output/korean_english_tuples.csv')"
   ],
   "metadata": {
    "collapsed": false,
    "pycharm": {
     "name": "#%%\n"
    }
   }
  },
  {
   "cell_type": "code",
   "execution_count": 3,
   "outputs": [],
   "source": [
    "hangul_hanja_pairs = pd.read_csv('../output/hanja_hangul_pairs.csv')"
   ],
   "metadata": {
    "collapsed": false,
    "pycharm": {
     "name": "#%%\n"
    }
   }
  },
  {
   "cell_type": "code",
   "execution_count": 7,
   "outputs": [],
   "source": [
    "hangul_hanja_english_df = kor_eng_tuples.join(hangul_hanja_pairs.set_index('hangul_word'), on='Korean')"
   ],
   "metadata": {
    "collapsed": false,
    "pycharm": {
     "name": "#%%\n"
    }
   }
  },
  {
   "cell_type": "code",
   "execution_count": 13,
   "outputs": [],
   "source": [
    "hangul_hanja_set = hangul_hanja_english_df[hangul_hanja_english_df['hanja_word'].apply(lambda x: str(x) != 'nan')]\\\n",
    "    .groupby('Korean').agg(list)['hanja_word'].reset_index()"
   ],
   "metadata": {
    "collapsed": false,
    "pycharm": {
     "name": "#%%\n"
    }
   }
  },
  {
   "cell_type": "code",
   "execution_count": 15,
   "outputs": [],
   "source": [
    "hangul_hanja_pairs_to_check = hangul_hanja_set[hangul_hanja_set['hanja_word'].apply(lambda x: len(x) > 1)]"
   ],
   "metadata": {
    "collapsed": false,
    "pycharm": {
     "name": "#%%\n"
    }
   }
  },
  {
   "cell_type": "code",
   "execution_count": 16,
   "outputs": [
    {
     "data": {
      "text/plain": "    Korean                hanja_word\n7       경주              [慶州, 競走, 傾注]\n10      공부                  [貢賦, 工夫]\n11      공원                  [工員, 公園]\n33     대학생                [大學生, 大學生]\n38      매일                  [每日, 每日]\n41      모자          [母子, 帽子, 母子, 帽子]\n49      사과              [赦過, 謝過, 沙果]\n52      사전  [事典, 私電, 私田, 事前, 辭典, 死前]\n67      시계              [視界, 市界, 時計]\n70      시장                  [市場, 市長]\n71      시청                  [市廳, 視聽]\n74      신문                  [新聞, 訊問]\n87     연구원                [硏究員, 硏究院]\n91      영어                  [囹圄, 英語]\n92      영화                  [榮華, 映畵]\n109     은행                  [銀行, 銀杏]\n113     의사          [擬似, 意思, 醫師, 義士]\n114     의자                  [椅子, 倚子]\n116     이월                  [移越, 二月]\n117     인도              [引導, 人道, 引渡]\n119     일기              [一期, 日記, 日氣]\n128     전당                  [殿堂, 全黨]\n129     전화          [轉化, 電話, 轉化, 電話]\n135     주일              [週日, 主日, 駐日]\n146     직원                  [直員, 職員]\n158     침대                  [寢臺, 寢臺]\n173     호주                  [濠洲, 戶主]",
      "text/html": "<div>\n<style scoped>\n    .dataframe tbody tr th:only-of-type {\n        vertical-align: middle;\n    }\n\n    .dataframe tbody tr th {\n        vertical-align: top;\n    }\n\n    .dataframe thead th {\n        text-align: right;\n    }\n</style>\n<table border=\"1\" class=\"dataframe\">\n  <thead>\n    <tr style=\"text-align: right;\">\n      <th></th>\n      <th>Korean</th>\n      <th>hanja_word</th>\n    </tr>\n  </thead>\n  <tbody>\n    <tr>\n      <th>7</th>\n      <td>경주</td>\n      <td>[慶州, 競走, 傾注]</td>\n    </tr>\n    <tr>\n      <th>10</th>\n      <td>공부</td>\n      <td>[貢賦, 工夫]</td>\n    </tr>\n    <tr>\n      <th>11</th>\n      <td>공원</td>\n      <td>[工員, 公園]</td>\n    </tr>\n    <tr>\n      <th>33</th>\n      <td>대학생</td>\n      <td>[大學生, 大學生]</td>\n    </tr>\n    <tr>\n      <th>38</th>\n      <td>매일</td>\n      <td>[每日, 每日]</td>\n    </tr>\n    <tr>\n      <th>41</th>\n      <td>모자</td>\n      <td>[母子, 帽子, 母子, 帽子]</td>\n    </tr>\n    <tr>\n      <th>49</th>\n      <td>사과</td>\n      <td>[赦過, 謝過, 沙果]</td>\n    </tr>\n    <tr>\n      <th>52</th>\n      <td>사전</td>\n      <td>[事典, 私電, 私田, 事前, 辭典, 死前]</td>\n    </tr>\n    <tr>\n      <th>67</th>\n      <td>시계</td>\n      <td>[視界, 市界, 時計]</td>\n    </tr>\n    <tr>\n      <th>70</th>\n      <td>시장</td>\n      <td>[市場, 市長]</td>\n    </tr>\n    <tr>\n      <th>71</th>\n      <td>시청</td>\n      <td>[市廳, 視聽]</td>\n    </tr>\n    <tr>\n      <th>74</th>\n      <td>신문</td>\n      <td>[新聞, 訊問]</td>\n    </tr>\n    <tr>\n      <th>87</th>\n      <td>연구원</td>\n      <td>[硏究員, 硏究院]</td>\n    </tr>\n    <tr>\n      <th>91</th>\n      <td>영어</td>\n      <td>[囹圄, 英語]</td>\n    </tr>\n    <tr>\n      <th>92</th>\n      <td>영화</td>\n      <td>[榮華, 映畵]</td>\n    </tr>\n    <tr>\n      <th>109</th>\n      <td>은행</td>\n      <td>[銀行, 銀杏]</td>\n    </tr>\n    <tr>\n      <th>113</th>\n      <td>의사</td>\n      <td>[擬似, 意思, 醫師, 義士]</td>\n    </tr>\n    <tr>\n      <th>114</th>\n      <td>의자</td>\n      <td>[椅子, 倚子]</td>\n    </tr>\n    <tr>\n      <th>116</th>\n      <td>이월</td>\n      <td>[移越, 二月]</td>\n    </tr>\n    <tr>\n      <th>117</th>\n      <td>인도</td>\n      <td>[引導, 人道, 引渡]</td>\n    </tr>\n    <tr>\n      <th>119</th>\n      <td>일기</td>\n      <td>[一期, 日記, 日氣]</td>\n    </tr>\n    <tr>\n      <th>128</th>\n      <td>전당</td>\n      <td>[殿堂, 全黨]</td>\n    </tr>\n    <tr>\n      <th>129</th>\n      <td>전화</td>\n      <td>[轉化, 電話, 轉化, 電話]</td>\n    </tr>\n    <tr>\n      <th>135</th>\n      <td>주일</td>\n      <td>[週日, 主日, 駐日]</td>\n    </tr>\n    <tr>\n      <th>146</th>\n      <td>직원</td>\n      <td>[直員, 職員]</td>\n    </tr>\n    <tr>\n      <th>158</th>\n      <td>침대</td>\n      <td>[寢臺, 寢臺]</td>\n    </tr>\n    <tr>\n      <th>173</th>\n      <td>호주</td>\n      <td>[濠洲, 戶主]</td>\n    </tr>\n  </tbody>\n</table>\n</div>"
     },
     "execution_count": 16,
     "metadata": {},
     "output_type": "execute_result"
    }
   ],
   "source": [
    "hangul_hanja_pairs_to_check"
   ],
   "metadata": {
    "collapsed": false,
    "pycharm": {
     "name": "#%%\n"
    }
   }
  },
  {
   "cell_type": "code",
   "execution_count": null,
   "outputs": [],
   "source": [],
   "metadata": {
    "collapsed": false,
    "pycharm": {
     "name": "#%%\n"
    }
   }
  }
 ],
 "metadata": {
  "kernelspec": {
   "name": "pycharm-26971720",
   "language": "python",
   "display_name": "PyCharm (data_science)"
  },
  "language_info": {
   "codemirror_mode": {
    "name": "ipython",
    "version": 2
   },
   "file_extension": ".py",
   "mimetype": "text/x-python",
   "name": "python",
   "nbconvert_exporter": "python",
   "pygments_lexer": "ipython2",
   "version": "2.7.6"
  }
 },
 "nbformat": 4,
 "nbformat_minor": 0
}