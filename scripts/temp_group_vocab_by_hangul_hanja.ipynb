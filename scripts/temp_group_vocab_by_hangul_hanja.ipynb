{
 "cells": [
  {
   "cell_type": "code",
   "execution_count": 1,
   "metadata": {
    "collapsed": true
   },
   "outputs": [
    {
     "name": "stderr",
     "output_type": "stream",
     "text": [
      "/Users/zacharydestefano/git/language_learning/src/language_learning_tools/grouping/vocab_grouping.py:128: SettingWithCopyWarning: \n",
      "A value is trying to be set on a copy of a slice from a DataFrame.\n",
      "Try using .loc[row_indexer,col_indexer] = value instead\n",
      "\n",
      "See the caveats in the documentation: https://pandas.pydata.org/pandas-docs/stable/user_guide/indexing.html#returning-a-view-versus-a-copy\n",
      "  parts_in_multiple_words[num_parts_col_name].apply(lambda x: int(x))\n"
     ]
    }
   ],
   "source": [
    "from language_learning_tools.grouping.vocab_grouping import \\\n",
    "    get_hangul_parts, \\\n",
    "    group_lang_df_by_parts, \\\n",
    "    get_hangul_hanja_tuples\n",
    "import pandas as pd\n",
    "\n",
    "INPUT_CSV_PATH = '../input_generated_files/english_hangul_hanja_tups_to_memorize.csv'\n",
    "OUTPUT_CSV_PATH = '../output/tups_grouped_by_hangul_hanja.csv'\n",
    "ENGLISH_COL_NAME = 'English_translation'\n",
    "KOREAN_COL_NAME = 'hangul_word'\n",
    "HANJA_COL_NAME = 'hanja_word_with_x'\n",
    "\n",
    "HANJA_HANGUL_TUPLE = 'hangul_hanja_tuple'\n",
    "HANJA_HANGUL_CHAR_TUPLE = 'hangul_hanja_char_tuple'\n",
    "\n",
    "HANJA_CHAR_COL_NAME = 'hanja_char'\n",
    "\n",
    "HANJA_PARTS_COL_NAME = 'hanja_parts'\n",
    "\n",
    "eng_kor_df = pd.read_csv(INPUT_CSV_PATH)\n",
    "\n",
    "eng_kor_df[HANJA_HANGUL_TUPLE] = eng_kor_df.apply(lambda row: (row[KOREAN_COL_NAME], row[HANJA_COL_NAME]), axis=1)\n",
    "\n",
    "hanja_chars_output_df = group_lang_df_by_parts(\n",
    "    eng_kor_df,\n",
    "    HANJA_HANGUL_TUPLE,\n",
    "    get_hangul_hanja_tuples,\n",
    "    HANJA_HANGUL_CHAR_TUPLE,\n",
    "    [KOREAN_COL_NAME, HANJA_COL_NAME, ENGLISH_COL_NAME])\n",
    "\n",
    "hanja_chars_output_df['hangul_char'] = hanja_chars_output_df['hangul_hanja_char_tuple'].apply(lambda x: x[0])\n",
    "hanja_chars_output_df['hanja_char'] = hanja_chars_output_df['hangul_hanja_char_tuple'].apply(lambda x: x[1])"
   ]
  },
  {
   "cell_type": "code",
   "execution_count": 3,
   "outputs": [
    {
     "data": {
      "text/plain": "    index hangul_word                   English_translation hanja_word_with_x  \\\n0      72        할아버지                           grandfather                 X   \n1      88         피아노                                 piano                 X   \n2     168        좋아하다                               to like                 X   \n3     286          아홉                                  nine                 X   \n4     287        아프리카                                Africa                 X   \n5      25         아프다  to be hurting / ill / in pain / hurt                 X   \n6     288          아침                               morning                 X   \n7     289          아직                      (not) yet, still                 X   \n8      26          아주                          very / quite                 X   \n9     290       아이스크림                             ice cream                 X   \n10    291          아이                                 child                 X   \n11    292         아버지                                father                 X   \n12    293          아래                         under / below                 X   \n13    294          아들                                   son                 X   \n14    295          아내                                  wife                 X   \n15    296          아까  earlier (today), a while ago (today)                 X   \n16    297          아기                                  baby                 X   \n17    424       말레이시아                              Malaysia                 X   \n18    551        갈아타다                           to transfer                 X   \n19    114         케이크                                  cake                 X   \n20    202       이야기하다                               to talk                 X   \n21    203        이상하다                         to be strange                 X   \n22    204          이분               this person (honorific)                 X   \n23    205          이번                             this time                 X   \n24    206         이메일                                e-mail                 X   \n25    207          이름                                  name                 X   \n26    208         이렇게                like this /in this way                 X   \n27    209          이거                            this (one)                 X   \n28     17           이                            this | two                 X   \n29    290       아이스크림                             ice cream                 X   \n\n   hangul_hanja_tuple hangul_hanja_char_tuple  hangul_hanja_tuple_num_parts  \\\n0           (할아버지, X)                  (아, X)                            19   \n1            (피아노, X)                  (아, X)                            19   \n2           (좋아하다, X)                  (아, X)                            19   \n3             (아홉, X)                  (아, X)                            19   \n4           (아프리카, X)                  (아, X)                            19   \n5            (아프다, X)                  (아, X)                            19   \n6             (아침, X)                  (아, X)                            19   \n7             (아직, X)                  (아, X)                            19   \n8             (아주, X)                  (아, X)                            19   \n9          (아이스크림, X)                  (아, X)                            19   \n10            (아이, X)                  (아, X)                            19   \n11           (아버지, X)                  (아, X)                            19   \n12            (아래, X)                  (아, X)                            19   \n13            (아들, X)                  (아, X)                            19   \n14            (아내, X)                  (아, X)                            19   \n15            (아까, X)                  (아, X)                            19   \n16            (아기, X)                  (아, X)                            19   \n17         (말레이시아, X)                  (아, X)                            19   \n18          (갈아타다, X)                  (아, X)                            19   \n19           (케이크, X)                  (이, X)                            17   \n20         (이야기하다, X)                  (이, X)                            17   \n21          (이상하다, X)                  (이, X)                            17   \n22            (이분, X)                  (이, X)                            17   \n23            (이번, X)                  (이, X)                            17   \n24           (이메일, X)                  (이, X)                            17   \n25            (이름, X)                  (이, X)                            17   \n26           (이렇게, X)                  (이, X)                            17   \n27            (이거, X)                  (이, X)                            17   \n28             (이, X)                  (이, X)                            17   \n29         (아이스크림, X)                  (이, X)                            17   \n\n   hangul_char hanja_char  \n0            아          X  \n1            아          X  \n2            아          X  \n3            아          X  \n4            아          X  \n5            아          X  \n6            아          X  \n7            아          X  \n8            아          X  \n9            아          X  \n10           아          X  \n11           아          X  \n12           아          X  \n13           아          X  \n14           아          X  \n15           아          X  \n16           아          X  \n17           아          X  \n18           아          X  \n19           이          X  \n20           이          X  \n21           이          X  \n22           이          X  \n23           이          X  \n24           이          X  \n25           이          X  \n26           이          X  \n27           이          X  \n28           이          X  \n29           이          X  ",
      "text/html": "<div>\n<style scoped>\n    .dataframe tbody tr th:only-of-type {\n        vertical-align: middle;\n    }\n\n    .dataframe tbody tr th {\n        vertical-align: top;\n    }\n\n    .dataframe thead th {\n        text-align: right;\n    }\n</style>\n<table border=\"1\" class=\"dataframe\">\n  <thead>\n    <tr style=\"text-align: right;\">\n      <th></th>\n      <th>index</th>\n      <th>hangul_word</th>\n      <th>English_translation</th>\n      <th>hanja_word_with_x</th>\n      <th>hangul_hanja_tuple</th>\n      <th>hangul_hanja_char_tuple</th>\n      <th>hangul_hanja_tuple_num_parts</th>\n      <th>hangul_char</th>\n      <th>hanja_char</th>\n    </tr>\n  </thead>\n  <tbody>\n    <tr>\n      <th>0</th>\n      <td>72</td>\n      <td>할아버지</td>\n      <td>grandfather</td>\n      <td>X</td>\n      <td>(할아버지, X)</td>\n      <td>(아, X)</td>\n      <td>19</td>\n      <td>아</td>\n      <td>X</td>\n    </tr>\n    <tr>\n      <th>1</th>\n      <td>88</td>\n      <td>피아노</td>\n      <td>piano</td>\n      <td>X</td>\n      <td>(피아노, X)</td>\n      <td>(아, X)</td>\n      <td>19</td>\n      <td>아</td>\n      <td>X</td>\n    </tr>\n    <tr>\n      <th>2</th>\n      <td>168</td>\n      <td>좋아하다</td>\n      <td>to like</td>\n      <td>X</td>\n      <td>(좋아하다, X)</td>\n      <td>(아, X)</td>\n      <td>19</td>\n      <td>아</td>\n      <td>X</td>\n    </tr>\n    <tr>\n      <th>3</th>\n      <td>286</td>\n      <td>아홉</td>\n      <td>nine</td>\n      <td>X</td>\n      <td>(아홉, X)</td>\n      <td>(아, X)</td>\n      <td>19</td>\n      <td>아</td>\n      <td>X</td>\n    </tr>\n    <tr>\n      <th>4</th>\n      <td>287</td>\n      <td>아프리카</td>\n      <td>Africa</td>\n      <td>X</td>\n      <td>(아프리카, X)</td>\n      <td>(아, X)</td>\n      <td>19</td>\n      <td>아</td>\n      <td>X</td>\n    </tr>\n    <tr>\n      <th>5</th>\n      <td>25</td>\n      <td>아프다</td>\n      <td>to be hurting / ill / in pain / hurt</td>\n      <td>X</td>\n      <td>(아프다, X)</td>\n      <td>(아, X)</td>\n      <td>19</td>\n      <td>아</td>\n      <td>X</td>\n    </tr>\n    <tr>\n      <th>6</th>\n      <td>288</td>\n      <td>아침</td>\n      <td>morning</td>\n      <td>X</td>\n      <td>(아침, X)</td>\n      <td>(아, X)</td>\n      <td>19</td>\n      <td>아</td>\n      <td>X</td>\n    </tr>\n    <tr>\n      <th>7</th>\n      <td>289</td>\n      <td>아직</td>\n      <td>(not) yet, still</td>\n      <td>X</td>\n      <td>(아직, X)</td>\n      <td>(아, X)</td>\n      <td>19</td>\n      <td>아</td>\n      <td>X</td>\n    </tr>\n    <tr>\n      <th>8</th>\n      <td>26</td>\n      <td>아주</td>\n      <td>very / quite</td>\n      <td>X</td>\n      <td>(아주, X)</td>\n      <td>(아, X)</td>\n      <td>19</td>\n      <td>아</td>\n      <td>X</td>\n    </tr>\n    <tr>\n      <th>9</th>\n      <td>290</td>\n      <td>아이스크림</td>\n      <td>ice cream</td>\n      <td>X</td>\n      <td>(아이스크림, X)</td>\n      <td>(아, X)</td>\n      <td>19</td>\n      <td>아</td>\n      <td>X</td>\n    </tr>\n    <tr>\n      <th>10</th>\n      <td>291</td>\n      <td>아이</td>\n      <td>child</td>\n      <td>X</td>\n      <td>(아이, X)</td>\n      <td>(아, X)</td>\n      <td>19</td>\n      <td>아</td>\n      <td>X</td>\n    </tr>\n    <tr>\n      <th>11</th>\n      <td>292</td>\n      <td>아버지</td>\n      <td>father</td>\n      <td>X</td>\n      <td>(아버지, X)</td>\n      <td>(아, X)</td>\n      <td>19</td>\n      <td>아</td>\n      <td>X</td>\n    </tr>\n    <tr>\n      <th>12</th>\n      <td>293</td>\n      <td>아래</td>\n      <td>under / below</td>\n      <td>X</td>\n      <td>(아래, X)</td>\n      <td>(아, X)</td>\n      <td>19</td>\n      <td>아</td>\n      <td>X</td>\n    </tr>\n    <tr>\n      <th>13</th>\n      <td>294</td>\n      <td>아들</td>\n      <td>son</td>\n      <td>X</td>\n      <td>(아들, X)</td>\n      <td>(아, X)</td>\n      <td>19</td>\n      <td>아</td>\n      <td>X</td>\n    </tr>\n    <tr>\n      <th>14</th>\n      <td>295</td>\n      <td>아내</td>\n      <td>wife</td>\n      <td>X</td>\n      <td>(아내, X)</td>\n      <td>(아, X)</td>\n      <td>19</td>\n      <td>아</td>\n      <td>X</td>\n    </tr>\n    <tr>\n      <th>15</th>\n      <td>296</td>\n      <td>아까</td>\n      <td>earlier (today), a while ago (today)</td>\n      <td>X</td>\n      <td>(아까, X)</td>\n      <td>(아, X)</td>\n      <td>19</td>\n      <td>아</td>\n      <td>X</td>\n    </tr>\n    <tr>\n      <th>16</th>\n      <td>297</td>\n      <td>아기</td>\n      <td>baby</td>\n      <td>X</td>\n      <td>(아기, X)</td>\n      <td>(아, X)</td>\n      <td>19</td>\n      <td>아</td>\n      <td>X</td>\n    </tr>\n    <tr>\n      <th>17</th>\n      <td>424</td>\n      <td>말레이시아</td>\n      <td>Malaysia</td>\n      <td>X</td>\n      <td>(말레이시아, X)</td>\n      <td>(아, X)</td>\n      <td>19</td>\n      <td>아</td>\n      <td>X</td>\n    </tr>\n    <tr>\n      <th>18</th>\n      <td>551</td>\n      <td>갈아타다</td>\n      <td>to transfer</td>\n      <td>X</td>\n      <td>(갈아타다, X)</td>\n      <td>(아, X)</td>\n      <td>19</td>\n      <td>아</td>\n      <td>X</td>\n    </tr>\n    <tr>\n      <th>19</th>\n      <td>114</td>\n      <td>케이크</td>\n      <td>cake</td>\n      <td>X</td>\n      <td>(케이크, X)</td>\n      <td>(이, X)</td>\n      <td>17</td>\n      <td>이</td>\n      <td>X</td>\n    </tr>\n    <tr>\n      <th>20</th>\n      <td>202</td>\n      <td>이야기하다</td>\n      <td>to talk</td>\n      <td>X</td>\n      <td>(이야기하다, X)</td>\n      <td>(이, X)</td>\n      <td>17</td>\n      <td>이</td>\n      <td>X</td>\n    </tr>\n    <tr>\n      <th>21</th>\n      <td>203</td>\n      <td>이상하다</td>\n      <td>to be strange</td>\n      <td>X</td>\n      <td>(이상하다, X)</td>\n      <td>(이, X)</td>\n      <td>17</td>\n      <td>이</td>\n      <td>X</td>\n    </tr>\n    <tr>\n      <th>22</th>\n      <td>204</td>\n      <td>이분</td>\n      <td>this person (honorific)</td>\n      <td>X</td>\n      <td>(이분, X)</td>\n      <td>(이, X)</td>\n      <td>17</td>\n      <td>이</td>\n      <td>X</td>\n    </tr>\n    <tr>\n      <th>23</th>\n      <td>205</td>\n      <td>이번</td>\n      <td>this time</td>\n      <td>X</td>\n      <td>(이번, X)</td>\n      <td>(이, X)</td>\n      <td>17</td>\n      <td>이</td>\n      <td>X</td>\n    </tr>\n    <tr>\n      <th>24</th>\n      <td>206</td>\n      <td>이메일</td>\n      <td>e-mail</td>\n      <td>X</td>\n      <td>(이메일, X)</td>\n      <td>(이, X)</td>\n      <td>17</td>\n      <td>이</td>\n      <td>X</td>\n    </tr>\n    <tr>\n      <th>25</th>\n      <td>207</td>\n      <td>이름</td>\n      <td>name</td>\n      <td>X</td>\n      <td>(이름, X)</td>\n      <td>(이, X)</td>\n      <td>17</td>\n      <td>이</td>\n      <td>X</td>\n    </tr>\n    <tr>\n      <th>26</th>\n      <td>208</td>\n      <td>이렇게</td>\n      <td>like this /in this way</td>\n      <td>X</td>\n      <td>(이렇게, X)</td>\n      <td>(이, X)</td>\n      <td>17</td>\n      <td>이</td>\n      <td>X</td>\n    </tr>\n    <tr>\n      <th>27</th>\n      <td>209</td>\n      <td>이거</td>\n      <td>this (one)</td>\n      <td>X</td>\n      <td>(이거, X)</td>\n      <td>(이, X)</td>\n      <td>17</td>\n      <td>이</td>\n      <td>X</td>\n    </tr>\n    <tr>\n      <th>28</th>\n      <td>17</td>\n      <td>이</td>\n      <td>this | two</td>\n      <td>X</td>\n      <td>(이, X)</td>\n      <td>(이, X)</td>\n      <td>17</td>\n      <td>이</td>\n      <td>X</td>\n    </tr>\n    <tr>\n      <th>29</th>\n      <td>290</td>\n      <td>아이스크림</td>\n      <td>ice cream</td>\n      <td>X</td>\n      <td>(아이스크림, X)</td>\n      <td>(이, X)</td>\n      <td>17</td>\n      <td>이</td>\n      <td>X</td>\n    </tr>\n  </tbody>\n</table>\n</div>"
     },
     "execution_count": 3,
     "metadata": {},
     "output_type": "execute_result"
    }
   ],
   "source": [
    "hanja_chars_output_df.head(30)"
   ],
   "metadata": {
    "collapsed": false,
    "pycharm": {
     "name": "#%%\n"
    }
   }
  },
  {
   "cell_type": "code",
   "execution_count": 4,
   "outputs": [],
   "source": [
    "rank_df = hanja_chars_output_df[['hangul_hanja_char_tuple', 'hangul_hanja_tuple_num_parts']].drop_duplicates()"
   ],
   "metadata": {
    "collapsed": false,
    "pycharm": {
     "name": "#%%\n"
    }
   }
  },
  {
   "cell_type": "code",
   "execution_count": 5,
   "outputs": [
    {
     "data": {
      "text/plain": "    hangul_hanja_char_tuple  hangul_hanja_tuple_num_parts\n0                    (아, X)                            19\n19                   (이, X)                            17\n36                   (일, 日)                            15\n51                   (리, X)                            15\n66                   (어, X)                            12\n..                      ...                           ...\n744                  (구, X)                             2\n746                  (공, 工)                             2\n748                  (결, 結)                             2\n750                  (개, X)                             2\n752                  (간, 間)                             2\n\n[217 rows x 2 columns]",
      "text/html": "<div>\n<style scoped>\n    .dataframe tbody tr th:only-of-type {\n        vertical-align: middle;\n    }\n\n    .dataframe tbody tr th {\n        vertical-align: top;\n    }\n\n    .dataframe thead th {\n        text-align: right;\n    }\n</style>\n<table border=\"1\" class=\"dataframe\">\n  <thead>\n    <tr style=\"text-align: right;\">\n      <th></th>\n      <th>hangul_hanja_char_tuple</th>\n      <th>hangul_hanja_tuple_num_parts</th>\n    </tr>\n  </thead>\n  <tbody>\n    <tr>\n      <th>0</th>\n      <td>(아, X)</td>\n      <td>19</td>\n    </tr>\n    <tr>\n      <th>19</th>\n      <td>(이, X)</td>\n      <td>17</td>\n    </tr>\n    <tr>\n      <th>36</th>\n      <td>(일, 日)</td>\n      <td>15</td>\n    </tr>\n    <tr>\n      <th>51</th>\n      <td>(리, X)</td>\n      <td>15</td>\n    </tr>\n    <tr>\n      <th>66</th>\n      <td>(어, X)</td>\n      <td>12</td>\n    </tr>\n    <tr>\n      <th>...</th>\n      <td>...</td>\n      <td>...</td>\n    </tr>\n    <tr>\n      <th>744</th>\n      <td>(구, X)</td>\n      <td>2</td>\n    </tr>\n    <tr>\n      <th>746</th>\n      <td>(공, 工)</td>\n      <td>2</td>\n    </tr>\n    <tr>\n      <th>748</th>\n      <td>(결, 結)</td>\n      <td>2</td>\n    </tr>\n    <tr>\n      <th>750</th>\n      <td>(개, X)</td>\n      <td>2</td>\n    </tr>\n    <tr>\n      <th>752</th>\n      <td>(간, 間)</td>\n      <td>2</td>\n    </tr>\n  </tbody>\n</table>\n<p>217 rows × 2 columns</p>\n</div>"
     },
     "execution_count": 5,
     "metadata": {},
     "output_type": "execute_result"
    }
   ],
   "source": [
    "rank_df[rank_col_name] = rank_df[num_parts_col_name].rank(method='min').apply(lambda x: int(x))"
   ],
   "metadata": {
    "collapsed": false,
    "pycharm": {
     "name": "#%%\n"
    }
   }
  },
  {
   "cell_type": "code",
   "execution_count": null,
   "outputs": [],
   "source": [
    "hangul_hanja_out_df = hanja_chars_output_df[\n",
    "    ['hangul_char',\n",
    "     'hanja_char',\n",
    "     KOREAN_COL_NAME,\n",
    "     HANJA_COL_NAME,\n",
    "     ENGLISH_COL_NAME]\n",
    "]"
   ],
   "metadata": {
    "collapsed": false,
    "pycharm": {
     "name": "#%%\n"
    }
   }
  },
  {
   "cell_type": "code",
   "execution_count": 10,
   "outputs": [
    {
     "data": {
      "text/plain": "    hangul_hanja_char_tuple hangul_word hanja_word_with_x  \\\n72                   (아, X)        할아버지                 X   \n88                   (아, X)         피아노                 X   \n168                  (아, X)        좋아하다                 X   \n286                  (아, X)          아홉                 X   \n287                  (아, X)        아프리카                 X   \n..                      ...         ...               ...   \n543                  (결, 結)          결혼                結婚   \n154                  (개, X)         지우개                 X   \n548                  (개, X)           개                 X   \n317                  (간, 間)         시간표               時間表   \n318                  (간, 間)          시간                時間   \n\n                 English_translation hangul_char hanja_char  \n72                       grandfather           아          X  \n88                             piano           아          X  \n168                          to like           아          X  \n286                             nine           아          X  \n287                           Africa           아          X  \n..                               ...         ...        ...  \n543                         marriage           결          結  \n154                           eraser           개          X  \n548  counting unit for general items           개          X  \n317                       time table           간          間  \n318                             hour           간          間  \n\n[754 rows x 6 columns]",
      "text/html": "<div>\n<style scoped>\n    .dataframe tbody tr th:only-of-type {\n        vertical-align: middle;\n    }\n\n    .dataframe tbody tr th {\n        vertical-align: top;\n    }\n\n    .dataframe thead th {\n        text-align: right;\n    }\n</style>\n<table border=\"1\" class=\"dataframe\">\n  <thead>\n    <tr style=\"text-align: right;\">\n      <th></th>\n      <th>hangul_hanja_char_tuple</th>\n      <th>hangul_word</th>\n      <th>hanja_word_with_x</th>\n      <th>English_translation</th>\n      <th>hangul_char</th>\n      <th>hanja_char</th>\n    </tr>\n  </thead>\n  <tbody>\n    <tr>\n      <th>72</th>\n      <td>(아, X)</td>\n      <td>할아버지</td>\n      <td>X</td>\n      <td>grandfather</td>\n      <td>아</td>\n      <td>X</td>\n    </tr>\n    <tr>\n      <th>88</th>\n      <td>(아, X)</td>\n      <td>피아노</td>\n      <td>X</td>\n      <td>piano</td>\n      <td>아</td>\n      <td>X</td>\n    </tr>\n    <tr>\n      <th>168</th>\n      <td>(아, X)</td>\n      <td>좋아하다</td>\n      <td>X</td>\n      <td>to like</td>\n      <td>아</td>\n      <td>X</td>\n    </tr>\n    <tr>\n      <th>286</th>\n      <td>(아, X)</td>\n      <td>아홉</td>\n      <td>X</td>\n      <td>nine</td>\n      <td>아</td>\n      <td>X</td>\n    </tr>\n    <tr>\n      <th>287</th>\n      <td>(아, X)</td>\n      <td>아프리카</td>\n      <td>X</td>\n      <td>Africa</td>\n      <td>아</td>\n      <td>X</td>\n    </tr>\n    <tr>\n      <th>...</th>\n      <td>...</td>\n      <td>...</td>\n      <td>...</td>\n      <td>...</td>\n      <td>...</td>\n      <td>...</td>\n    </tr>\n    <tr>\n      <th>543</th>\n      <td>(결, 結)</td>\n      <td>결혼</td>\n      <td>結婚</td>\n      <td>marriage</td>\n      <td>결</td>\n      <td>結</td>\n    </tr>\n    <tr>\n      <th>154</th>\n      <td>(개, X)</td>\n      <td>지우개</td>\n      <td>X</td>\n      <td>eraser</td>\n      <td>개</td>\n      <td>X</td>\n    </tr>\n    <tr>\n      <th>548</th>\n      <td>(개, X)</td>\n      <td>개</td>\n      <td>X</td>\n      <td>counting unit for general items</td>\n      <td>개</td>\n      <td>X</td>\n    </tr>\n    <tr>\n      <th>317</th>\n      <td>(간, 間)</td>\n      <td>시간표</td>\n      <td>時間表</td>\n      <td>time table</td>\n      <td>간</td>\n      <td>間</td>\n    </tr>\n    <tr>\n      <th>318</th>\n      <td>(간, 間)</td>\n      <td>시간</td>\n      <td>時間</td>\n      <td>hour</td>\n      <td>간</td>\n      <td>間</td>\n    </tr>\n  </tbody>\n</table>\n<p>754 rows × 6 columns</p>\n</div>"
     },
     "execution_count": 10,
     "metadata": {},
     "output_type": "execute_result"
    }
   ],
   "source": [
    "hanja_chars_output_df"
   ],
   "metadata": {
    "collapsed": false,
    "pycharm": {
     "name": "#%%\n"
    }
   }
  },
  {
   "cell_type": "code",
   "execution_count": 8,
   "outputs": [
    {
     "data": {
      "text/plain": "    hangul_hanja_char_tuple hangul_word hanja_word_with_x  \\\n72                   (아, X)        할아버지                 X   \n88                   (아, X)         피아노                 X   \n168                  (아, X)        좋아하다                 X   \n286                  (아, X)          아홉                 X   \n287                  (아, X)        아프리카                 X   \n..                      ...         ...               ...   \n543                  (결, 結)          결혼                結婚   \n154                  (개, X)         지우개                 X   \n548                  (개, X)           개                 X   \n317                  (간, 間)         시간표               時間表   \n318                  (간, 間)          시간                時間   \n\n                 English_translation hangul_char hanja_char   rank  \n72                       grandfather           아          X  412.0  \n88                             piano           아          X  412.0  \n168                          to like           아          X  412.0  \n286                             nine           아          X  412.0  \n287                           Africa           아          X  412.0  \n..                               ...         ...        ...    ...  \n543                         marriage           결          結   20.0  \n154                           eraser           개          X   10.0  \n548  counting unit for general items           개          X   10.0  \n317                       time table           간          間    8.0  \n318                             hour           간          間    8.0  \n\n[754 rows x 7 columns]",
      "text/html": "<div>\n<style scoped>\n    .dataframe tbody tr th:only-of-type {\n        vertical-align: middle;\n    }\n\n    .dataframe tbody tr th {\n        vertical-align: top;\n    }\n\n    .dataframe thead th {\n        text-align: right;\n    }\n</style>\n<table border=\"1\" class=\"dataframe\">\n  <thead>\n    <tr style=\"text-align: right;\">\n      <th></th>\n      <th>hangul_hanja_char_tuple</th>\n      <th>hangul_word</th>\n      <th>hanja_word_with_x</th>\n      <th>English_translation</th>\n      <th>hangul_char</th>\n      <th>hanja_char</th>\n      <th>rank</th>\n    </tr>\n  </thead>\n  <tbody>\n    <tr>\n      <th>72</th>\n      <td>(아, X)</td>\n      <td>할아버지</td>\n      <td>X</td>\n      <td>grandfather</td>\n      <td>아</td>\n      <td>X</td>\n      <td>412.0</td>\n    </tr>\n    <tr>\n      <th>88</th>\n      <td>(아, X)</td>\n      <td>피아노</td>\n      <td>X</td>\n      <td>piano</td>\n      <td>아</td>\n      <td>X</td>\n      <td>412.0</td>\n    </tr>\n    <tr>\n      <th>168</th>\n      <td>(아, X)</td>\n      <td>좋아하다</td>\n      <td>X</td>\n      <td>to like</td>\n      <td>아</td>\n      <td>X</td>\n      <td>412.0</td>\n    </tr>\n    <tr>\n      <th>286</th>\n      <td>(아, X)</td>\n      <td>아홉</td>\n      <td>X</td>\n      <td>nine</td>\n      <td>아</td>\n      <td>X</td>\n      <td>412.0</td>\n    </tr>\n    <tr>\n      <th>287</th>\n      <td>(아, X)</td>\n      <td>아프리카</td>\n      <td>X</td>\n      <td>Africa</td>\n      <td>아</td>\n      <td>X</td>\n      <td>412.0</td>\n    </tr>\n    <tr>\n      <th>...</th>\n      <td>...</td>\n      <td>...</td>\n      <td>...</td>\n      <td>...</td>\n      <td>...</td>\n      <td>...</td>\n      <td>...</td>\n    </tr>\n    <tr>\n      <th>543</th>\n      <td>(결, 結)</td>\n      <td>결혼</td>\n      <td>結婚</td>\n      <td>marriage</td>\n      <td>결</td>\n      <td>結</td>\n      <td>20.0</td>\n    </tr>\n    <tr>\n      <th>154</th>\n      <td>(개, X)</td>\n      <td>지우개</td>\n      <td>X</td>\n      <td>eraser</td>\n      <td>개</td>\n      <td>X</td>\n      <td>10.0</td>\n    </tr>\n    <tr>\n      <th>548</th>\n      <td>(개, X)</td>\n      <td>개</td>\n      <td>X</td>\n      <td>counting unit for general items</td>\n      <td>개</td>\n      <td>X</td>\n      <td>10.0</td>\n    </tr>\n    <tr>\n      <th>317</th>\n      <td>(간, 間)</td>\n      <td>시간표</td>\n      <td>時間表</td>\n      <td>time table</td>\n      <td>간</td>\n      <td>間</td>\n      <td>8.0</td>\n    </tr>\n    <tr>\n      <th>318</th>\n      <td>(간, 間)</td>\n      <td>시간</td>\n      <td>時間</td>\n      <td>hour</td>\n      <td>간</td>\n      <td>間</td>\n      <td>8.0</td>\n    </tr>\n  </tbody>\n</table>\n<p>754 rows × 7 columns</p>\n</div>"
     },
     "execution_count": 8,
     "metadata": {},
     "output_type": "execute_result"
    }
   ],
   "source": [],
   "metadata": {
    "collapsed": false,
    "pycharm": {
     "name": "#%%\n"
    }
   }
  },
  {
   "cell_type": "code",
   "execution_count": 23,
   "outputs": [],
   "source": [],
   "metadata": {
    "collapsed": false,
    "pycharm": {
     "name": "#%%\n"
    }
   }
  },
  {
   "cell_type": "code",
   "execution_count": 24,
   "outputs": [
    {
     "data": {
      "text/plain": "    hangul_char hanja_char hangul_word hanja_word_with_x  \\\n72            아          X        할아버지                 X   \n88            아          X         피아노                 X   \n168           아          X        좋아하다                 X   \n286           아          X          아홉                 X   \n287           아          X        아프리카                 X   \n..          ...        ...         ...               ...   \n543           결          結          결혼                結婚   \n154           개          X         지우개                 X   \n548           개          X           개                 X   \n317           간          間         시간표               時間表   \n318           간          間          시간                時間   \n\n                 English_translation  hangul_rank  hanja_rank  \n72                       grandfather            0           0  \n88                             piano            0           0  \n168                          to like            0           0  \n286                             nine            0           0  \n287                           Africa            0           0  \n..                               ...          ...         ...  \n543                         marriage          171          79  \n154                           eraser          172           0  \n548  counting unit for general items          172           0  \n317                       time table          173          80  \n318                             hour          173          80  \n\n[754 rows x 7 columns]",
      "text/html": "<div>\n<style scoped>\n    .dataframe tbody tr th:only-of-type {\n        vertical-align: middle;\n    }\n\n    .dataframe tbody tr th {\n        vertical-align: top;\n    }\n\n    .dataframe thead th {\n        text-align: right;\n    }\n</style>\n<table border=\"1\" class=\"dataframe\">\n  <thead>\n    <tr style=\"text-align: right;\">\n      <th></th>\n      <th>hangul_char</th>\n      <th>hanja_char</th>\n      <th>hangul_word</th>\n      <th>hanja_word_with_x</th>\n      <th>English_translation</th>\n      <th>hangul_rank</th>\n      <th>hanja_rank</th>\n    </tr>\n  </thead>\n  <tbody>\n    <tr>\n      <th>72</th>\n      <td>아</td>\n      <td>X</td>\n      <td>할아버지</td>\n      <td>X</td>\n      <td>grandfather</td>\n      <td>0</td>\n      <td>0</td>\n    </tr>\n    <tr>\n      <th>88</th>\n      <td>아</td>\n      <td>X</td>\n      <td>피아노</td>\n      <td>X</td>\n      <td>piano</td>\n      <td>0</td>\n      <td>0</td>\n    </tr>\n    <tr>\n      <th>168</th>\n      <td>아</td>\n      <td>X</td>\n      <td>좋아하다</td>\n      <td>X</td>\n      <td>to like</td>\n      <td>0</td>\n      <td>0</td>\n    </tr>\n    <tr>\n      <th>286</th>\n      <td>아</td>\n      <td>X</td>\n      <td>아홉</td>\n      <td>X</td>\n      <td>nine</td>\n      <td>0</td>\n      <td>0</td>\n    </tr>\n    <tr>\n      <th>287</th>\n      <td>아</td>\n      <td>X</td>\n      <td>아프리카</td>\n      <td>X</td>\n      <td>Africa</td>\n      <td>0</td>\n      <td>0</td>\n    </tr>\n    <tr>\n      <th>...</th>\n      <td>...</td>\n      <td>...</td>\n      <td>...</td>\n      <td>...</td>\n      <td>...</td>\n      <td>...</td>\n      <td>...</td>\n    </tr>\n    <tr>\n      <th>543</th>\n      <td>결</td>\n      <td>結</td>\n      <td>결혼</td>\n      <td>結婚</td>\n      <td>marriage</td>\n      <td>171</td>\n      <td>79</td>\n    </tr>\n    <tr>\n      <th>154</th>\n      <td>개</td>\n      <td>X</td>\n      <td>지우개</td>\n      <td>X</td>\n      <td>eraser</td>\n      <td>172</td>\n      <td>0</td>\n    </tr>\n    <tr>\n      <th>548</th>\n      <td>개</td>\n      <td>X</td>\n      <td>개</td>\n      <td>X</td>\n      <td>counting unit for general items</td>\n      <td>172</td>\n      <td>0</td>\n    </tr>\n    <tr>\n      <th>317</th>\n      <td>간</td>\n      <td>間</td>\n      <td>시간표</td>\n      <td>時間表</td>\n      <td>time table</td>\n      <td>173</td>\n      <td>80</td>\n    </tr>\n    <tr>\n      <th>318</th>\n      <td>간</td>\n      <td>間</td>\n      <td>시간</td>\n      <td>時間</td>\n      <td>hour</td>\n      <td>173</td>\n      <td>80</td>\n    </tr>\n  </tbody>\n</table>\n<p>754 rows × 7 columns</p>\n</div>"
     },
     "execution_count": 24,
     "metadata": {},
     "output_type": "execute_result"
    }
   ],
   "source": [
    "hangul_hanja_out_df_with_rank"
   ],
   "metadata": {
    "collapsed": false,
    "pycharm": {
     "name": "#%%\n"
    }
   }
  },
  {
   "cell_type": "code",
   "execution_count": null,
   "outputs": [],
   "source": [
    "hangul_hanja_out_df.to_csv(OUTPUT_CSV_PATH, index=False)\n",
    "\n"
   ],
   "metadata": {
    "collapsed": false,
    "pycharm": {
     "name": "#%%\n"
    }
   }
  }
 ],
 "metadata": {
  "kernelspec": {
   "display_name": "Python 3",
   "language": "python",
   "name": "python3"
  },
  "language_info": {
   "codemirror_mode": {
    "name": "ipython",
    "version": 2
   },
   "file_extension": ".py",
   "mimetype": "text/x-python",
   "name": "python",
   "nbconvert_exporter": "python",
   "pygments_lexer": "ipython2",
   "version": "2.7.6"
  }
 },
 "nbformat": 4,
 "nbformat_minor": 0
}