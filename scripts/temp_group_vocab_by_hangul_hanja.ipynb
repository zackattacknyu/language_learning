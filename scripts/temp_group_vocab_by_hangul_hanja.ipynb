{
 "cells": [
  {
   "cell_type": "code",
   "execution_count": 11,
   "metadata": {
    "collapsed": true
   },
   "outputs": [
    {
     "name": "stderr",
     "output_type": "stream",
     "text": [
      "/Users/zacharydestefano/git/language_learning/src/language_learning_tools/grouping/vocab_grouping.py:127: SettingWithCopyWarning: \n",
      "A value is trying to be set on a copy of a slice from a DataFrame.\n",
      "Try using .loc[row_indexer,col_indexer] = value instead\n",
      "\n",
      "See the caveats in the documentation: https://pandas.pydata.org/pandas-docs/stable/user_guide/indexing.html#returning-a-view-versus-a-copy\n",
      "  parts_in_multiple_words[num_parts_col_name].apply(lambda x: int(x))\n"
     ]
    }
   ],
   "source": [
    "from language_learning_tools.grouping.vocab_grouping import \\\n",
    "    get_hangul_parts, \\\n",
    "    group_lang_df_by_parts, \\\n",
    "    get_hangul_hanja_tuples\n",
    "import pandas as pd\n",
    "\n",
    "INPUT_CSV_PATH = '../input_generated_files/english_hangul_hanja_tups_to_memorize.csv'\n",
    "OUTPUT_CSV_PATH = '../output/tups_grouped_by_hangul_hanja.csv'\n",
    "ENGLISH_COL_NAME = 'English_translation'\n",
    "KOREAN_COL_NAME = 'hangul_word'\n",
    "HANJA_COL_NAME = 'hanja_word_with_x'\n",
    "\n",
    "HANJA_HANGUL_TUPLE = 'hangul_hanja_tuple'\n",
    "HANJA_HANGUL_CHAR_TUPLE = 'hangul_hanja_char_tuple'\n",
    "\n",
    "HANJA_CHAR_COL_NAME = 'hanja_char'\n",
    "\n",
    "HANJA_PARTS_COL_NAME = 'hanja_parts'\n",
    "\n",
    "eng_kor_df = pd.read_csv(INPUT_CSV_PATH)\n",
    "\n",
    "eng_kor_df[HANJA_HANGUL_TUPLE] = eng_kor_df.apply(lambda row: (row[KOREAN_COL_NAME], row[HANJA_COL_NAME]), axis=1)\n",
    "\n",
    "hanja_chars_output_df = group_lang_df_by_parts(\n",
    "    eng_kor_df,\n",
    "    HANJA_HANGUL_TUPLE,\n",
    "    get_hangul_hanja_tuples,\n",
    "    HANJA_HANGUL_CHAR_TUPLE,\n",
    "    [KOREAN_COL_NAME, HANJA_COL_NAME, ENGLISH_COL_NAME])\n",
    "\n",
    "hanja_chars_output_df['hangul_char'] = hanja_chars_output_df['hangul_hanja_char_tuple'].apply(lambda x: x[0])\n",
    "hanja_chars_output_df['hanja_char'] = hanja_chars_output_df['hangul_hanja_char_tuple'].apply(lambda x: x[1])\n",
    "\n",
    "hangul_hanja_out_df = hanja_chars_output_df[\n",
    "    ['hangul_char',\n",
    "     'hanja_char',\n",
    "     KOREAN_COL_NAME,\n",
    "     HANJA_COL_NAME,\n",
    "     ENGLISH_COL_NAME]\n",
    "]"
   ]
  },
  {
   "cell_type": "code",
   "execution_count": 23,
   "outputs": [],
   "source": [
    "hangul_rank = hangul_hanja_out_df[['hangul_char']]\\\n",
    "    .drop_duplicates()\\\n",
    "    .reset_index()\\\n",
    "    .reset_index()[['level_0', 'hangul_char']].rename(columns={\n",
    "        'level_0': 'hangul_rank'\n",
    "    }).set_index('hangul_char')\n",
    "\n",
    "hanja_rank = hangul_hanja_out_df[['hanja_char']]\\\n",
    "    .drop_duplicates()\\\n",
    "    .reset_index()\\\n",
    "    .reset_index()[['level_0', 'hanja_char']].rename(columns={\n",
    "        'level_0': 'hanja_rank'\n",
    "    }).set_index('hanja_char')\n",
    "\n",
    "hangul_hanja_out_df_with_rank = hangul_hanja_out_df\\\n",
    "    .join(hangul_rank, on='hangul_char')\\\n",
    "    .join(hanja_rank, on='hanja_char')"
   ],
   "metadata": {
    "collapsed": false,
    "pycharm": {
     "name": "#%%\n"
    }
   }
  },
  {
   "cell_type": "code",
   "execution_count": 24,
   "outputs": [
    {
     "data": {
      "text/plain": "    hangul_char hanja_char hangul_word hanja_word_with_x  \\\n72            아          X        할아버지                 X   \n88            아          X         피아노                 X   \n168           아          X        좋아하다                 X   \n286           아          X          아홉                 X   \n287           아          X        아프리카                 X   \n..          ...        ...         ...               ...   \n543           결          結          결혼                結婚   \n154           개          X         지우개                 X   \n548           개          X           개                 X   \n317           간          間         시간표               時間表   \n318           간          間          시간                時間   \n\n                 English_translation  hangul_rank  hanja_rank  \n72                       grandfather            0           0  \n88                             piano            0           0  \n168                          to like            0           0  \n286                             nine            0           0  \n287                           Africa            0           0  \n..                               ...          ...         ...  \n543                         marriage          171          79  \n154                           eraser          172           0  \n548  counting unit for general items          172           0  \n317                       time table          173          80  \n318                             hour          173          80  \n\n[754 rows x 7 columns]",
      "text/html": "<div>\n<style scoped>\n    .dataframe tbody tr th:only-of-type {\n        vertical-align: middle;\n    }\n\n    .dataframe tbody tr th {\n        vertical-align: top;\n    }\n\n    .dataframe thead th {\n        text-align: right;\n    }\n</style>\n<table border=\"1\" class=\"dataframe\">\n  <thead>\n    <tr style=\"text-align: right;\">\n      <th></th>\n      <th>hangul_char</th>\n      <th>hanja_char</th>\n      <th>hangul_word</th>\n      <th>hanja_word_with_x</th>\n      <th>English_translation</th>\n      <th>hangul_rank</th>\n      <th>hanja_rank</th>\n    </tr>\n  </thead>\n  <tbody>\n    <tr>\n      <th>72</th>\n      <td>아</td>\n      <td>X</td>\n      <td>할아버지</td>\n      <td>X</td>\n      <td>grandfather</td>\n      <td>0</td>\n      <td>0</td>\n    </tr>\n    <tr>\n      <th>88</th>\n      <td>아</td>\n      <td>X</td>\n      <td>피아노</td>\n      <td>X</td>\n      <td>piano</td>\n      <td>0</td>\n      <td>0</td>\n    </tr>\n    <tr>\n      <th>168</th>\n      <td>아</td>\n      <td>X</td>\n      <td>좋아하다</td>\n      <td>X</td>\n      <td>to like</td>\n      <td>0</td>\n      <td>0</td>\n    </tr>\n    <tr>\n      <th>286</th>\n      <td>아</td>\n      <td>X</td>\n      <td>아홉</td>\n      <td>X</td>\n      <td>nine</td>\n      <td>0</td>\n      <td>0</td>\n    </tr>\n    <tr>\n      <th>287</th>\n      <td>아</td>\n      <td>X</td>\n      <td>아프리카</td>\n      <td>X</td>\n      <td>Africa</td>\n      <td>0</td>\n      <td>0</td>\n    </tr>\n    <tr>\n      <th>...</th>\n      <td>...</td>\n      <td>...</td>\n      <td>...</td>\n      <td>...</td>\n      <td>...</td>\n      <td>...</td>\n      <td>...</td>\n    </tr>\n    <tr>\n      <th>543</th>\n      <td>결</td>\n      <td>結</td>\n      <td>결혼</td>\n      <td>結婚</td>\n      <td>marriage</td>\n      <td>171</td>\n      <td>79</td>\n    </tr>\n    <tr>\n      <th>154</th>\n      <td>개</td>\n      <td>X</td>\n      <td>지우개</td>\n      <td>X</td>\n      <td>eraser</td>\n      <td>172</td>\n      <td>0</td>\n    </tr>\n    <tr>\n      <th>548</th>\n      <td>개</td>\n      <td>X</td>\n      <td>개</td>\n      <td>X</td>\n      <td>counting unit for general items</td>\n      <td>172</td>\n      <td>0</td>\n    </tr>\n    <tr>\n      <th>317</th>\n      <td>간</td>\n      <td>間</td>\n      <td>시간표</td>\n      <td>時間表</td>\n      <td>time table</td>\n      <td>173</td>\n      <td>80</td>\n    </tr>\n    <tr>\n      <th>318</th>\n      <td>간</td>\n      <td>間</td>\n      <td>시간</td>\n      <td>時間</td>\n      <td>hour</td>\n      <td>173</td>\n      <td>80</td>\n    </tr>\n  </tbody>\n</table>\n<p>754 rows × 7 columns</p>\n</div>"
     },
     "execution_count": 24,
     "metadata": {},
     "output_type": "execute_result"
    }
   ],
   "source": [
    "hangul_hanja_out_df_with_rank"
   ],
   "metadata": {
    "collapsed": false,
    "pycharm": {
     "name": "#%%\n"
    }
   }
  },
  {
   "cell_type": "code",
   "execution_count": null,
   "outputs": [],
   "source": [
    "hangul_hanja_out_df.to_csv(OUTPUT_CSV_PATH, index=False)\n",
    "\n"
   ],
   "metadata": {
    "collapsed": false,
    "pycharm": {
     "name": "#%%\n"
    }
   }
  }
 ],
 "metadata": {
  "kernelspec": {
   "display_name": "Python 3",
   "language": "python",
   "name": "python3"
  },
  "language_info": {
   "codemirror_mode": {
    "name": "ipython",
    "version": 2
   },
   "file_extension": ".py",
   "mimetype": "text/x-python",
   "name": "python",
   "nbconvert_exporter": "python",
   "pygments_lexer": "ipython2",
   "version": "2.7.6"
  }
 },
 "nbformat": 4,
 "nbformat_minor": 0
}