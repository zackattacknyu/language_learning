{
 "cells": [
  {
   "cell_type": "code",
   "execution_count": 12,
   "metadata": {
    "collapsed": true
   },
   "outputs": [],
   "source": [
    "import pandas as pd\n",
    "\n",
    "with open('../input_external_files/cedict_ts.u8', 'r') as f:\n",
    "    chinese_chars_txt_raw = f.read()"
   ]
  },
  {
   "cell_type": "code",
   "execution_count": 13,
   "outputs": [],
   "source": [
    "chinese_char_txt_lines = [\n",
    "    _line for _line in chinese_chars_txt_raw.split('\\n')\n",
    "    if not _line.startswith('#')\n",
    "]"
   ],
   "metadata": {
    "collapsed": false,
    "pycharm": {
     "name": "#%%\n"
    }
   }
  },
  {
   "cell_type": "code",
   "execution_count": 14,
   "outputs": [],
   "source": [
    "# Ref:\n",
    "# https://cc-cedict.org/wiki/format:syntax\n",
    "def get_tuple_for_line(_line):\n",
    "    line_parts = _line.split('/')\n",
    "    chars = line_parts[0].split(' ')\n",
    "    defs = ' | '.join(line_parts[1:])\n",
    "    simp_char = chars[0].strip()\n",
    "    traditional_char = chars[1].strip()\n",
    "    return simp_char, traditional_char, defs\n"
   ],
   "metadata": {
    "collapsed": false,
    "pycharm": {
     "name": "#%%\n"
    }
   }
  },
  {
   "cell_type": "code",
   "execution_count": 15,
   "outputs": [],
   "source": [
    "res = pd.DataFrame(\n",
    "    [get_tuple_for_line(_line)\n",
    "     for _line in chinese_char_txt_lines]\n",
    ").rename(columns={\n",
    "    0: 'simplified_char',\n",
    "    1: 'traditional_char',\n",
    "    2: 'definitions'\n",
    "})"
   ],
   "metadata": {
    "collapsed": false,
    "pycharm": {
     "name": "#%%\n"
    }
   }
  },
  {
   "cell_type": "code",
   "execution_count": 17,
   "outputs": [],
   "source": [
    "res.to_csv('../output/chinese_char_defs.csv', index=False)"
   ],
   "metadata": {
    "collapsed": false,
    "pycharm": {
     "name": "#%%\n"
    }
   }
  },
  {
   "cell_type": "code",
   "execution_count": null,
   "outputs": [],
   "source": [],
   "metadata": {
    "collapsed": false,
    "pycharm": {
     "name": "#%%\n"
    }
   }
  }
 ],
 "metadata": {
  "kernelspec": {
   "display_name": "Python 3",
   "language": "python",
   "name": "python3"
  },
  "language_info": {
   "codemirror_mode": {
    "name": "ipython",
    "version": 2
   },
   "file_extension": ".py",
   "mimetype": "text/x-python",
   "name": "python",
   "nbconvert_exporter": "python",
   "pygments_lexer": "ipython2",
   "version": "2.7.6"
  }
 },
 "nbformat": 4,
 "nbformat_minor": 0
}