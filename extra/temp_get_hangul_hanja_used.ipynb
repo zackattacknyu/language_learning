{
 "cells": [
  {
   "cell_type": "code",
   "execution_count": 1,
   "metadata": {
    "collapsed": true
   },
   "outputs": [],
   "source": [
    "from language_learning_tools.grouping.vocab_grouping import \\\n",
    "    get_hangul_hanja_tuples, \\\n",
    "    group_lang_df_by_parts\n",
    "import pandas as pd\n",
    "\n",
    "INPUT_CSV_PATH = '../input_generated_files/english_hangul_hanja_tups_to_memorize.csv'\n",
    "OUTPUT_CSV_PATH = '../output/tups_grouped_by_hangul_hanja.csv'\n",
    "ENGLISH_COL_NAME = 'English_translation'\n",
    "KOREAN_COL_NAME = 'hangul_word'\n",
    "HANJA_COL_NAME = 'hanja_word_with_x'\n",
    "\n",
    "HANJA_HANGUL_TUPLE = 'hangul_hanja_tuple'\n",
    "HANJA_HANGUL_CHAR_TUPLE = 'hangul_hanja_char_tuple'\n",
    "\n",
    "HANJA_CHAR_COL_NAME = 'hanja_char'\n",
    "\n",
    "HANJA_PARTS_COL_NAME = 'hanja_parts'\n",
    "\n",
    "eng_kor_df = pd.read_csv(INPUT_CSV_PATH)\n",
    "\n",
    "eng_kor_df = eng_kor_df[eng_kor_df['hanja_word_with_x'].apply(lambda x: 'X' not in x)]\n",
    "eng_kor_df[HANJA_HANGUL_TUPLE] = eng_kor_df.apply(lambda row: (row[KOREAN_COL_NAME], row[HANJA_COL_NAME]), axis=1)"
   ]
  },
  {
   "cell_type": "code",
   "execution_count": 2,
   "outputs": [],
   "source": [
    "eng_kor_df['hangul_hanja_pairs'] = eng_kor_df[HANJA_HANGUL_TUPLE].apply(get_hangul_hanja_tuples)"
   ],
   "metadata": {
    "collapsed": false,
    "pycharm": {
     "name": "#%%\n"
    }
   }
  },
  {
   "cell_type": "code",
   "execution_count": 3,
   "outputs": [],
   "source": [
    "hangul_hanja_pairs = set()\n",
    "for _pair_list in list(eng_kor_df['hangul_hanja_pairs']):\n",
    "    hangul_hanja_pairs.update(_pair_list)"
   ],
   "metadata": {
    "collapsed": false,
    "pycharm": {
     "name": "#%%\n"
    }
   }
  },
  {
   "cell_type": "code",
   "execution_count": 4,
   "outputs": [],
   "source": [
    "hangul_hanja_pairs_lst = list(hangul_hanja_pairs)\n",
    "hangul_hanja_pairs_lst.sort()"
   ],
   "metadata": {
    "collapsed": false,
    "pycharm": {
     "name": "#%%\n"
    }
   }
  },
  {
   "cell_type": "code",
   "execution_count": 5,
   "outputs": [],
   "source": [
    "hangul_hanja_df = pd.DataFrame(hangul_hanja_pairs_lst).rename(columns={\n",
    "    0: 'hangul_char',\n",
    "    1: 'hanja_char'\n",
    "})"
   ],
   "metadata": {
    "collapsed": false,
    "pycharm": {
     "name": "#%%\n"
    }
   }
  },
  {
   "cell_type": "code",
   "execution_count": 7,
   "outputs": [],
   "source": [
    "chinese_char_defs = pd.read_csv('../output/chinese_char_defs.csv')"
   ],
   "metadata": {
    "collapsed": false,
    "pycharm": {
     "name": "#%%\n"
    }
   }
  },
  {
   "cell_type": "code",
   "execution_count": 8,
   "outputs": [
    {
     "data": {
      "text/plain": "Index(['simplified_char', 'traditional_char', 'definitions'], dtype='object')"
     },
     "execution_count": 8,
     "metadata": {},
     "output_type": "execute_result"
    }
   ],
   "source": [
    "chinese_char_defs.columns"
   ],
   "metadata": {
    "collapsed": false,
    "pycharm": {
     "name": "#%%\n"
    }
   }
  },
  {
   "cell_type": "code",
   "execution_count": 9,
   "outputs": [],
   "source": [
    "hangul_hanja_with_defs = hangul_hanja_df.join(\n",
    "    chinese_char_defs[['traditional_char',\n",
    "                       'definitions']].set_index('traditional_char'), on='hanja_char')"
   ],
   "metadata": {
    "collapsed": false,
    "pycharm": {
     "name": "#%%\n"
    }
   }
  },
  {
   "cell_type": "code",
   "execution_count": 10,
   "outputs": [
    {
     "data": {
      "text/plain": "    hangul_char hanja_char                                        definitions\n0             가          家                            see 傢伙|家伙[jia1 huo5] | \n0             가          家  home | family | (polite) my (sister, uncle etc...\n1             가          暇                                         leisure | \n2             가          街                          street | CL:條|条[tiao2] | \n3             간          看  to look after | to take care of | to watch | t...\n..          ...        ...                                                ...\n254           휴          休  to rest | to stop doing sth for a period of ti...\n255           휴          携                        old variant of 攜|携[xie2] | \n255           휴          携                        old variant of 攜|携[xie2] | \n255           휴          携                        old variant of 攜|携[xie2] | \n255           휴          携  to carry | to take along | to bring along | to...\n\n[341 rows x 3 columns]",
      "text/html": "<div>\n<style scoped>\n    .dataframe tbody tr th:only-of-type {\n        vertical-align: middle;\n    }\n\n    .dataframe tbody tr th {\n        vertical-align: top;\n    }\n\n    .dataframe thead th {\n        text-align: right;\n    }\n</style>\n<table border=\"1\" class=\"dataframe\">\n  <thead>\n    <tr style=\"text-align: right;\">\n      <th></th>\n      <th>hangul_char</th>\n      <th>hanja_char</th>\n      <th>definitions</th>\n    </tr>\n  </thead>\n  <tbody>\n    <tr>\n      <th>0</th>\n      <td>가</td>\n      <td>家</td>\n      <td>see 傢伙|家伙[jia1 huo5] |</td>\n    </tr>\n    <tr>\n      <th>0</th>\n      <td>가</td>\n      <td>家</td>\n      <td>home | family | (polite) my (sister, uncle etc...</td>\n    </tr>\n    <tr>\n      <th>1</th>\n      <td>가</td>\n      <td>暇</td>\n      <td>leisure |</td>\n    </tr>\n    <tr>\n      <th>2</th>\n      <td>가</td>\n      <td>街</td>\n      <td>street | CL:條|条[tiao2] |</td>\n    </tr>\n    <tr>\n      <th>3</th>\n      <td>간</td>\n      <td>看</td>\n      <td>to look after | to take care of | to watch | t...</td>\n    </tr>\n    <tr>\n      <th>...</th>\n      <td>...</td>\n      <td>...</td>\n      <td>...</td>\n    </tr>\n    <tr>\n      <th>254</th>\n      <td>휴</td>\n      <td>休</td>\n      <td>to rest | to stop doing sth for a period of ti...</td>\n    </tr>\n    <tr>\n      <th>255</th>\n      <td>휴</td>\n      <td>携</td>\n      <td>old variant of 攜|携[xie2] |</td>\n    </tr>\n    <tr>\n      <th>255</th>\n      <td>휴</td>\n      <td>携</td>\n      <td>old variant of 攜|携[xie2] |</td>\n    </tr>\n    <tr>\n      <th>255</th>\n      <td>휴</td>\n      <td>携</td>\n      <td>old variant of 攜|携[xie2] |</td>\n    </tr>\n    <tr>\n      <th>255</th>\n      <td>휴</td>\n      <td>携</td>\n      <td>to carry | to take along | to bring along | to...</td>\n    </tr>\n  </tbody>\n</table>\n<p>341 rows × 3 columns</p>\n</div>"
     },
     "execution_count": 10,
     "metadata": {},
     "output_type": "execute_result"
    }
   ],
   "source": [
    "hangul_hanja_with_defs\n"
   ],
   "metadata": {
    "collapsed": false,
    "pycharm": {
     "name": "#%%\n"
    }
   }
  },
  {
   "cell_type": "code",
   "execution_count": 11,
   "outputs": [],
   "source": [
    "\n",
    "hangul_hanja_with_defs.to_csv('../output/hangul_hanja_chars_with_def.csv')"
   ],
   "metadata": {
    "collapsed": false,
    "pycharm": {
     "name": "#%%\n"
    }
   }
  },
  {
   "cell_type": "code",
   "execution_count": null,
   "outputs": [],
   "source": [],
   "metadata": {
    "collapsed": false,
    "pycharm": {
     "name": "#%%\n"
    }
   }
  }
 ],
 "metadata": {
  "kernelspec": {
   "display_name": "Python 3",
   "language": "python",
   "name": "python3"
  },
  "language_info": {
   "codemirror_mode": {
    "name": "ipython",
    "version": 2
   },
   "file_extension": ".py",
   "mimetype": "text/x-python",
   "name": "python",
   "nbconvert_exporter": "python",
   "pygments_lexer": "ipython2",
   "version": "2.7.6"
  }
 },
 "nbformat": 4,
 "nbformat_minor": 0
}