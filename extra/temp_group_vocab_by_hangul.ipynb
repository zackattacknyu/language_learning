{
 "cells": [
  {
   "cell_type": "code",
   "execution_count": null,
   "metadata": {
    "collapsed": true
   },
   "outputs": [],
   "source": []
  },
  {
   "cell_type": "code",
   "execution_count": null,
   "outputs": [],
   "source": [
    "import pandas as pd\n",
    "import re\n",
    "\n",
    "eng_kor_dict = pd.read_csv('../input_edited_files/korean_english_tuples_to_memorize.csv')"
   ],
   "metadata": {
    "collapsed": false,
    "pycharm": {
     "name": "#%%\n"
    }
   }
  },
  {
   "cell_type": "code",
   "execution_count": null,
   "outputs": [],
   "source": [
    "eng_kor_dict_1 = eng_kor_dict.groupby('Korean').agg(list)['English'].reset_index().rename(columns={\n",
    "    'English': 'list_of_English_phrases'\n",
    "})\n",
    "eng_kor_dict_1['English_translations'] = eng_kor_dict_1['list_of_English_phrases'].apply(lambda x: ' | '.join(x))\n",
    "eng_kor_dict_1['num_English_defs'] = eng_kor_dict_1['list_of_English_phrases'].apply(lambda x: len(x))\n",
    "eng_kor_dict_1 = eng_kor_dict_1.sort_values('num_English_defs', ascending=False)"
   ],
   "metadata": {
    "collapsed": false,
    "pycharm": {
     "name": "#%%\n"
    }
   }
  }
 ],
 "metadata": {
  "kernelspec": {
   "display_name": "Python 3",
   "language": "python",
   "name": "python3"
  },
  "language_info": {
   "codemirror_mode": {
    "name": "ipython",
    "version": 2
   },
   "file_extension": ".py",
   "mimetype": "text/x-python",
   "name": "python",
   "nbconvert_exporter": "python",
   "pygments_lexer": "ipython2",
   "version": "2.7.6"
  }
 },
 "nbformat": 4,
 "nbformat_minor": 0
}